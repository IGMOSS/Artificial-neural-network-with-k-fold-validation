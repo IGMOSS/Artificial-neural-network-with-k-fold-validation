{
 "cells": [
  {
   "cell_type": "code",
   "execution_count": 1,
   "metadata": {},
   "outputs": [],
   "source": [
    "import os, shutil\n",
    "import copy\n",
    "original_dataset_dir = '/Users/iggym/Desktop/dataset/training_set/'\n",
    "#path to original dataset\n",
    "base_dir= '/Users/iggym/Downloads/smallerset/'\n",
    "os.mkdir(base_dir)\n",
    "train_dir = os.path.join(base_dir, 'train/')\n",
    "os.mkdir(train_dir)\n",
    "#making the training directories\n",
    "validation_dir = os.path.join(base_dir, 'validation/')\n",
    "os.mkdir(validation_dir)\n",
    "#vaildation directory\n",
    "test_dir = os.path.join(base_dir, 'test/')\n",
    "os.mkdir(test_dir)\n",
    "#test directory\n",
    "train_cats_dir = os.path.join(train_dir, 'cats/')\n",
    "os.mkdir(train_cats_dir)\n",
    "#seperating the cats and dogs\n",
    "train_dogs_dir = os.path.join(train_dir, 'dogs/')\n",
    "os.mkdir(train_dogs_dir)\n",
    "#validation directories for the cats and dogs\n",
    "validation_cats_dir = os.path.join(validation_dir, 'cats/')\n",
    "os.mkdir(validation_cats_dir)\n",
    "validation_dogs_dir = os.path.join(validation_dir, 'dogs/')\n",
    "os.mkdir(validation_dogs_dir)\n",
    "#test directories for the cats and dogs\n",
    "test_cats_dir = os.path.join(test_dir, 'cats/')\n",
    "os.mkdir(test_cats_dir)\n",
    "test_dogs_dir = os.path.join(test_dir, 'dogs/')\n",
    "os.mkdir(test_dogs_dir)\n",
    "\n"
   ]
  },
  {
   "cell_type": "code",
   "execution_count": 6,
   "metadata": {},
   "outputs": [],
   "source": [
    "#coppy the first 1000 cat training imagges\n",
    "import shutil\n",
    "fnames = ['cat.{}.jpg'.format(i) for i in range(1000)]\n",
    "for fname in fnames:\n",
    "    src = os.path.join(original_dataset_dir, fname)\n",
    "    dst = os.path.join(train_cats_dir, fname)\n",
    "    shutil.copyfile(src, dst)\n",
    "#copying the next 500 for validation\n",
    "fnames = ['cat.{}.jpg'.format(i) for i in range(1000,1500)]\n",
    "for fname in fnames:\n",
    "    src = os.path.join(original_dataset_dir, fname)\n",
    "    dst = os.path.join(validation_cats_dir, fname)\n",
    "    shutil.copyfile(src, dst)\n",
    "#copying the next 500 for test\n",
    "fnames = ['cat.{}.jpg'.format(i) for i in range(1500,2000)]\n",
    "for fname in fnames:\n",
    "    src = os.path.join(original_dataset_dir, fname)\n",
    "    dst = os.path.join(test_cats_dir, fname)\n",
    "    shutil.copyfile(src, dst)\n",
    "#copying the first 1000 dog images for training\n",
    "fnames = ['dog.{}.jpg'.format(i) for i in range(1000)]\n",
    "for fname in fnames:\n",
    "    src = os.path.join(original_dataset_dir, fname)\n",
    "    dst = os.path.join(train_dogs_dir, fname)\n",
    "    shutil.copyfile(src, dst)\n",
    "#copy the next 500 dog images for dog validation\n",
    "fnames = ['dog.{}.jpg'.format(i) for i in range (1000, 1500)]\n",
    "for fname in fnames:\n",
    "    src = os.path.join(original_dataset_dir, fname)\n",
    "    dst = os.path.join(validation_dogs_dir, fname)\n",
    "    shutil.copyfile(src, dst)\n",
    "#copy the next 500 dog images for testing\n",
    "fnames = ['dog.{}.jpg'.format(i) for i in range (1500,2000)]\n",
    "for fname in fnames:\n",
    "    src = os.path.join(original_dataset_dir, fname)\n",
    "    dst = os.path.join(test_dogs_dir, fname)\n",
    "    shutil.copyfile(src, dst)\n",
    "\n",
    "    "
   ]
  },
  {
   "cell_type": "code",
   "execution_count": 19,
   "metadata": {},
   "outputs": [
    {
     "name": "stdout",
     "output_type": "stream",
     "text": [
      "_________________________________________________________________\n",
      "Layer (type)                 Output Shape              Param #   \n",
      "=================================================================\n",
      "conv2d_9 (Conv2D)            (None, 148, 148, 32)      896       \n",
      "_________________________________________________________________\n",
      "max_pooling2d_9 (MaxPooling2 (None, 74, 74, 32)        0         \n",
      "_________________________________________________________________\n",
      "conv2d_10 (Conv2D)           (None, 72, 72, 64)        18496     \n",
      "_________________________________________________________________\n",
      "max_pooling2d_10 (MaxPooling (None, 36, 36, 64)        0         \n",
      "_________________________________________________________________\n",
      "conv2d_11 (Conv2D)           (None, 34, 34, 128)       73856     \n",
      "_________________________________________________________________\n",
      "max_pooling2d_11 (MaxPooling (None, 17, 17, 128)       0         \n",
      "_________________________________________________________________\n",
      "conv2d_12 (Conv2D)           (None, 15, 15, 128)       147584    \n",
      "_________________________________________________________________\n",
      "max_pooling2d_12 (MaxPooling (None, 7, 7, 128)         0         \n",
      "_________________________________________________________________\n",
      "flatten_3 (Flatten)          (None, 6272)              0         \n",
      "_________________________________________________________________\n",
      "dense_5 (Dense)              (None, 512)               3211776   \n",
      "_________________________________________________________________\n",
      "dense_6 (Dense)              (None, 1)                 513       \n",
      "=================================================================\n",
      "Total params: 3,453,121\n",
      "Trainable params: 3,453,121\n",
      "Non-trainable params: 0\n",
      "_________________________________________________________________\n"
     ]
    }
   ],
   "source": [
    "from keras import layers\n",
    "from keras import models\n",
    "model = models.Sequential()\n",
    "#forming the network\n",
    "model.add(layers.Conv2D(32, (3,3), activation = 'relu',\n",
    "                        input_shape=(150,150,3)))\n",
    "model.add(layers.MaxPooling2D((2,2)))\n",
    "model.add(layers.Conv2D(64, (3,3), activation='relu'))\n",
    "model.add(layers.MaxPooling2D((2,2)))\n",
    "model.add(layers.Conv2D(128, (3,3), activation='relu'))\n",
    "model.add(layers.MaxPooling2D((2,2)))\n",
    "model.add(layers.Conv2D(128,(3,3), activation='relu'))\n",
    "model.add(layers.MaxPooling2D((2,2)))\n",
    "model.add(layers.Flatten())\n",
    "model.add(layers.Dense(512, activation='relu'))\n",
    "model.add(layers.Dense(1, activation='sigmoid'))\n",
    "#this is the instatiation of convnet#\n",
    "model.summary()"
   ]
  },
  {
   "cell_type": "code",
   "execution_count": 20,
   "metadata": {},
   "outputs": [],
   "source": [
    "from keras import optimizers\n",
    "model.compile(loss='binary_crossentropy',\n",
    "             optimizer=optimizers.RMSprop(lr=1e-4),\n",
    "             metrics=['acc'])\n",
    "#configuring the model for training"
   ]
  },
  {
   "cell_type": "code",
   "execution_count": 21,
   "metadata": {},
   "outputs": [
    {
     "name": "stdout",
     "output_type": "stream",
     "text": [
      "Found 2000 images belonging to 2 classes.\n",
      "Found 1000 images belonging to 2 classes.\n"
     ]
    }
   ],
   "source": [
    "from keras.preprocessing.image import ImageDataGenerator\n",
    "train_datagen = ImageDataGenerator(rescale=1./255)\n",
    "test_datagen= ImageDataGenerator(rescale=1./255)\n",
    "#rescales images\n",
    "train_generator = train_datagen.flow_from_directory(\n",
    "        train_dir,\n",
    "        target_size=(150,150),\n",
    "        batch_size=20,\n",
    "        class_mode='binary')\n",
    "#resize images\n",
    "validation_generator = test_datagen.flow_from_directory(\n",
    "        validation_dir,\n",
    "        target_size=(150,150),\n",
    "        batch_size = 20,\n",
    "        class_mode='binary')\n",
    "#using imagedata generator to read images\n"
   ]
  },
  {
   "cell_type": "code",
   "execution_count": 22,
   "metadata": {},
   "outputs": [
    {
     "name": "stdout",
     "output_type": "stream",
     "text": [
      "data batch shape: (20, 150, 150, 3)\n",
      "labels batch shape: (20,)\n"
     ]
    }
   ],
   "source": [
    "for data_batch, labels_batch in train_generator:\n",
    "    print('data batch shape:',data_batch.shape)\n",
    "    print('labels batch shape:', labels_batch.shape)\n",
    "    break\n",
    "# making sure I'm not making a mistake"
   ]
  },
  {
   "cell_type": "code",
   "execution_count": 23,
   "metadata": {},
   "outputs": [
    {
     "name": "stdout",
     "output_type": "stream",
     "text": [
      "Epoch 1/30\n",
      "100/100 [==============================] - 853s 9s/step - loss: 0.6886 - acc: 0.5375 - val_loss: 0.6854 - val_acc: 0.5410\n",
      "Epoch 2/30\n",
      "100/100 [==============================] - 677s 7s/step - loss: 0.6547 - acc: 0.6120 - val_loss: 0.6368 - val_acc: 0.6590\n",
      "Epoch 3/30\n",
      "100/100 [==============================] - 536s 5s/step - loss: 0.6052 - acc: 0.6920 - val_loss: 0.6102 - val_acc: 0.6700\n",
      "Epoch 4/30\n",
      "100/100 [==============================] - 544s 5s/step - loss: 0.5715 - acc: 0.7155 - val_loss: 0.5975 - val_acc: 0.6730\n",
      "Epoch 5/30\n",
      "100/100 [==============================] - 540s 5s/step - loss: 0.5348 - acc: 0.7335 - val_loss: 0.5747 - val_acc: 0.6890\n",
      "Epoch 6/30\n",
      "100/100 [==============================] - 543s 5s/step - loss: 0.5180 - acc: 0.7495 - val_loss: 0.5876 - val_acc: 0.6840\n",
      "Epoch 7/30\n",
      "100/100 [==============================] - 538s 5s/step - loss: 0.4789 - acc: 0.7705 - val_loss: 0.5726 - val_acc: 0.6970\n",
      "Epoch 8/30\n",
      "100/100 [==============================] - 547s 5s/step - loss: 0.4447 - acc: 0.7890 - val_loss: 0.6216 - val_acc: 0.6990\n",
      "Epoch 9/30\n",
      "100/100 [==============================] - 551s 6s/step - loss: 0.4186 - acc: 0.8055 - val_loss: 0.5622 - val_acc: 0.7240\n",
      "Epoch 10/30\n",
      "100/100 [==============================] - 560s 6s/step - loss: 0.4051 - acc: 0.8170 - val_loss: 0.5769 - val_acc: 0.7070\n",
      "Epoch 11/30\n",
      "100/100 [==============================] - 631s 6s/step - loss: 0.3762 - acc: 0.8360 - val_loss: 0.5360 - val_acc: 0.7330\n",
      "Epoch 12/30\n",
      "100/100 [==============================] - 648s 6s/step - loss: 0.3504 - acc: 0.8520 - val_loss: 0.5895 - val_acc: 0.7190\n",
      "Epoch 13/30\n",
      "100/100 [==============================] - 729s 7s/step - loss: 0.3373 - acc: 0.8575 - val_loss: 0.5695 - val_acc: 0.7280\n",
      "Epoch 14/30\n",
      "100/100 [==============================] - 560s 6s/step - loss: 0.3080 - acc: 0.8785 - val_loss: 0.5797 - val_acc: 0.7400\n",
      "Epoch 15/30\n",
      "100/100 [==============================] - 539s 5s/step - loss: 0.2917 - acc: 0.8740 - val_loss: 0.6027 - val_acc: 0.7300\n",
      "Epoch 16/30\n",
      "100/100 [==============================] - 539s 5s/step - loss: 0.2625 - acc: 0.8930 - val_loss: 0.6148 - val_acc: 0.7360\n",
      "Epoch 17/30\n",
      "100/100 [==============================] - 551s 6s/step - loss: 0.2327 - acc: 0.9175 - val_loss: 0.6305 - val_acc: 0.7340\n",
      "Epoch 18/30\n",
      "100/100 [==============================] - 548s 5s/step - loss: 0.2264 - acc: 0.9060 - val_loss: 0.6270 - val_acc: 0.7300\n",
      "Epoch 19/30\n",
      "100/100 [==============================] - 563s 6s/step - loss: 0.2011 - acc: 0.9230 - val_loss: 0.6581 - val_acc: 0.7320\n",
      "Epoch 20/30\n",
      "100/100 [==============================] - 550s 5s/step - loss: 0.1828 - acc: 0.9330 - val_loss: 0.6458 - val_acc: 0.7490\n",
      "Epoch 21/30\n",
      "100/100 [==============================] - 648s 6s/step - loss: 0.1628 - acc: 0.9455 - val_loss: 0.6952 - val_acc: 0.7180\n",
      "Epoch 22/30\n",
      "100/100 [==============================] - 570s 6s/step - loss: 0.1435 - acc: 0.9530 - val_loss: 0.7096 - val_acc: 0.7310\n",
      "Epoch 23/30\n",
      "100/100 [==============================] - 567s 6s/step - loss: 0.1239 - acc: 0.9550 - val_loss: 0.7099 - val_acc: 0.7430\n",
      "Epoch 24/30\n",
      "100/100 [==============================] - 563s 6s/step - loss: 0.1104 - acc: 0.9630 - val_loss: 1.0980 - val_acc: 0.6850\n",
      "Epoch 25/30\n",
      "100/100 [==============================] - 566s 6s/step - loss: 0.1011 - acc: 0.9690 - val_loss: 0.8109 - val_acc: 0.7340\n",
      "Epoch 26/30\n",
      "100/100 [==============================] - 596s 6s/step - loss: 0.0870 - acc: 0.9750 - val_loss: 0.9478 - val_acc: 0.7190\n",
      "Epoch 27/30\n",
      "100/100 [==============================] - 551s 6s/step - loss: 0.0710 - acc: 0.9815 - val_loss: 0.8524 - val_acc: 0.7270\n",
      "Epoch 28/30\n",
      "100/100 [==============================] - 516s 5s/step - loss: 0.0616 - acc: 0.9810 - val_loss: 0.9491 - val_acc: 0.7450\n",
      "Epoch 29/30\n",
      "100/100 [==============================] - 547s 5s/step - loss: 0.0551 - acc: 0.9825 - val_loss: 0.9841 - val_acc: 0.7240\n",
      "Epoch 30/30\n",
      "100/100 [==============================] - 508s 5s/step - loss: 0.0542 - acc: 0.9845 - val_loss: 0.9327 - val_acc: 0.7380\n"
     ]
    }
   ],
   "source": [
    "#fitting models using batch generator\n",
    "history = model.fit_generator(\n",
    "    train_generator,\n",
    "    steps_per_epoch=100,\n",
    "    epochs=30,\n",
    "    validation_data=validation_generator,\n",
    "    validation_steps=50)\n",
    "    "
   ]
  },
  {
   "cell_type": "code",
   "execution_count": 26,
   "metadata": {},
   "outputs": [
    {
     "data": {
      "image/png": "[encoded data removed]",
      "text/plain": [
       "<Figure size 432x288 with 1 Axes>"
      ]
     },
     "metadata": {
      "needs_background": "light"
     },
     "output_type": "display_data"
    },
    {
     "data": {
      "image/png": "[encoded data removed]",
      "text/plain": [
       "<Figure size 432x288 with 1 Axes>"
      ]
     },
     "metadata": {
      "needs_background": "light"
     },
     "output_type": "display_data"
    }
   ],
   "source": [
    "model.save('cats_and_dogs_small_1.h5')\n",
    "import matplotlib.pyplot as plt\n",
    "#import and save the required materials\n",
    "#gain the loss and accuracy values\n",
    "acc = history.history['acc']\n",
    "val_acc = history.history['val_acc']\n",
    "loss = history.history['loss']\n",
    "val_loss = history.history['val_loss']\n",
    "#plot the accuracies\n",
    "epochs = range(1, len(acc) + 1)\n",
    "plt.plot(epochs, acc, 'bo', label='Training acc')\n",
    "plt.plot(epochs, val_acc, 'b', label='Validation acc')\n",
    "plt.title('Training and validation accuracy')\n",
    "plt.legend()\n",
    "\n",
    "plt.figure()\n",
    "#plot the losses\n",
    "plt.plot(epochs, loss, 'bo', label='Training loss')\n",
    "plt.plot(epochs, val_loss, 'b', label='Validation loss')\n",
    "plt.title('Training and validation loss')\n",
    "plt.legend()\n",
    "#create the graph\n",
    "plt.show()"
   ]
  }
 ],
 "metadata": {
  "kernelspec": {
   "display_name": "Python 3",
   "language": "python",
   "name": "python3"
  },
  "language_info": {
   "codemirror_mode": {
    "name": "ipython",
    "version": 3
   },
   "file_extension": ".py",
   "mimetype": "text/x-python",
   "name": "python",
   "nbconvert_exporter": "python",
   "pygments_lexer": "ipython3",
   "version": "3.6.6"
  }
 },
 "nbformat": 4,
 "nbformat_minor": 2
}
